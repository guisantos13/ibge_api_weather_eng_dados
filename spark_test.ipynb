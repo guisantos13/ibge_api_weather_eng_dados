{
 "cells": [
  {
   "cell_type": "code",
   "execution_count": 1,
   "id": "a1cb6c40-3073-43b0-b7f4-95e7c9dd8245",
   "metadata": {
    "tags": []
   },
   "outputs": [],
   "source": [
    "from helpers.helpers import *\n",
    "import os\n",
    "import datetime\n",
    "from unidecode import unidecode\n",
    "from pyspark.sql import SparkSession\n",
    "from pyspark import SparkContext\n",
    "from pyspark.sql.types import *\n",
    "import pyspark.sql.functions as F\n",
    "from pyspark.sql.functions import *\n",
    "from pyspark.sql.functions import split"
   ]
  },
  {
   "cell_type": "code",
   "execution_count": 2,
   "id": "d6aceed5",
   "metadata": {},
   "outputs": [],
   "source": [
    "###############################################################\n",
    "#####################VARIAVÉIS#DE#AMBIENTE#####################\n",
    "###############################################################\n",
    "url_ibge = os.environ.get(\"IBGE-URL\")\n",
    "key_api = os.environ.get(\"API-KEY\")\n",
    "url_weather_api = os.environ.get(\"VISUAL-CROSSING\")\n",
    "###############################################################\n",
    "###############################################################\n",
    "###############################################################"
   ]
  },
  {
   "cell_type": "code",
   "execution_count": 3,
   "id": "c38305e7",
   "metadata": {},
   "outputs": [
    {
     "name": "stdout",
     "output_type": "stream",
     "text": [
      "22/09/04 18:36:08 WARN Utils: Your hostname, gsantos-Lenovo-ideapad-330-15IKB resolves to a loopback address: 127.0.1.1; using 192.168.0.78 instead (on interface wlp2s0)\n",
      "22/09/04 18:36:08 WARN Utils: Set SPARK_LOCAL_IP if you need to bind to another address\n"
     ]
    },
    {
     "name": "stderr",
     "output_type": "stream",
     "text": [
      "Setting default log level to \"WARN\".\n",
      "To adjust logging level use sc.setLogLevel(newLevel). For SparkR, use setLogLevel(newLevel).\n"
     ]
    },
    {
     "name": "stdout",
     "output_type": "stream",
     "text": [
      "22/09/04 18:36:09 WARN NativeCodeLoader: Unable to load native-hadoop library for your platform... using builtin-java classes where applicable\n"
     ]
    }
   ],
   "source": [
    "# Iniciando o SPARK\n",
    "\n",
    "spark = (\n",
    "    SparkSession.builder.master(\"local\")\n",
    "    .appName(\"projeto-ibge-climatempo\")\n",
    "    .config(\"spark.ui.port\", \"4050\")\n",
    "    .getOrCreate()\n",
    ")\n",
    "\n",
    "sc = SparkContext.getOrCreate()\n"
   ]
  },
  {
   "cell_type": "markdown",
   "id": "568c3360",
   "metadata": {},
   "source": [
    "# Buscar cidades do Vale do Paraíba"
   ]
  },
  {
   "cell_type": "code",
   "execution_count": 4,
   "id": "cdc739f4-2ebf-4ff2-91ff-89689510e618",
   "metadata": {
    "scrolled": true,
    "tags": []
   },
   "outputs": [
    {
     "name": "stderr",
     "output_type": "stream",
     "text": [
      "                                                                                \r"
     ]
    }
   ],
   "source": [
    "\n",
    "# Realizando o request no site do IBGE e salvando arquivo json\n",
    "response = http_requests().get(url_ibge)\n",
    "dados_ibge_json = response.json()\n",
    "\n",
    "# Criar data frame com as cidades\n",
    "jsonRDD = sc.parallelize(dados_ibge_json)\n",
    "df_ibge = spark.read.json(jsonRDD)\n",
    "\n",
    "# Criar view com as cidades\n",
    "df_ibge.createOrReplaceTempView('cities')"
   ]
  },
  {
   "cell_type": "code",
   "execution_count": 5,
   "id": "ce84569f",
   "metadata": {},
   "outputs": [
    {
     "name": "stdout",
     "output_type": "stream",
     "text": [
      "+-------+---------+--------------------+\n",
      "|     id|     nome|        microrregiao|\n",
      "+-------+---------+--------------------+\n",
      "|3502507|Aparecida|{35051, {{35, São...|\n",
      "|3503158|   Arapeí|{35052, {{35, São...|\n",
      "|3503505|   Areias|{35052, {{35, São...|\n",
      "|3504909|  Bananal|{35052, {{35, São...|\n",
      "|3508504| Caçapava|{35050, {{35, São...|\n",
      "+-------+---------+--------------------+\n",
      "only showing top 5 rows\n",
      "\n"
     ]
    }
   ],
   "source": [
    "spark.sql(\"SELECT id,nome,microrregiao FROM cities \").show(5)"
   ]
  },
  {
   "cell_type": "markdown",
   "id": "a3ddce91",
   "metadata": {},
   "source": [
    "# Buscar previsão do tempo para as cidades"
   ]
  },
  {
   "cell_type": "code",
   "execution_count": 6,
   "id": "c4a40a6f-d5f1-4524-9d0b-d1e6e24dfbfa",
   "metadata": {
    "tags": []
   },
   "outputs": [],
   "source": [
    "\n",
    "# Exportando a coluna com os nomes das cidades para uma lista python\n",
    "list_cities = df_ibge.select(\"nome\").rdd.flatMap(lambda x: x).collect()\n",
    "\n",
    "# Consumindo os dados da API WEATHER\n",
    "data_inicio = datetime.date.today()\n",
    "data_final = data_inicio + datetime.timedelta(5)\n",
    "dados_weather_api = requests_weather_api(\n",
    "    list_cities,\n",
    "    key_api,\n",
    "    url_weather_api,\n",
    "    metodo=\"/timeline/\",\n",
    "    periodo=f\"{str(data_inicio)}/{str(data_final)}\",\n",
    ")\n",
    "\n",
    "\n",
    "# Formatandos os dados para criação do dataframe\n",
    "dados_df_weather = dados_of_df_weather(dados_weather_api)\n",
    "\n",
    "# Criar data frame com as previsões\n",
    "df_weather = spark.createDataFrame(dados_df_weather)\n",
    "\n"
   ]
  },
  {
   "cell_type": "code",
   "execution_count": 7,
   "id": "2498d67a",
   "metadata": {},
   "outputs": [
    {
     "name": "stdout",
     "output_type": "stream",
     "text": [
      "+--------------------+--------+---------+--------------------+----------+--------------------+----------+----------+----------+--------+--------+----+-------+-------+------------+\n",
      "|              Cidade|Latitude|Longitude|          conditions|  datetime|              normal|precipprob|preciptype|severerisk| sunrise|  sunset|temp|tempmax|tempmin|windspeedmax|\n",
      "+--------------------+--------+---------+--------------------+----------+--------------------+----------+----------+----------+--------+--------+----+-------+-------+------------+\n",
      "|Aparecida, SP, Br...|-22.8494| -45.2318|      Rain, Overcast|2022-09-04|{tempmax -> [10.7...|     100.0|    [rain]|      10.0|06:08:24|17:51:51|14.5|   17.8|   12.9|        14.4|\n",
      "|Aparecida, SP, Br...|-22.8494| -45.2318|    Partially cloudy|2022-09-05|{tempmax -> [11.0...|      23.8|    [rain]|      10.0|06:07:26|17:52:09|16.3|   24.9|   11.2|        12.6|\n",
      "|Aparecida, SP, Br...|-22.8494| -45.2318|    Partially cloudy|2022-09-06|{tempmax -> [12.3...|      14.3|    [rain]|      10.0|06:06:28|17:52:27|17.0|   25.6|   12.7|        15.1|\n",
      "|Aparecida, SP, Br...|-22.8494| -45.2318|Rain, Partially c...|2022-09-07|{tempmax -> [14.0...|      81.0|    [rain]|      10.0|06:05:30|17:52:44|18.5|   29.7|   11.6|        15.1|\n",
      "|Aparecida, SP, Br...|-22.8494| -45.2318|               Clear|2022-09-08|{tempmax -> [13.9...|      42.9|      null|      10.0|06:04:31|17:53:02|21.6|   31.6|   13.5|        12.6|\n",
      "|Aparecida, SP, Br...|-22.8494| -45.2318|               Clear|2022-09-09|{tempmax -> [13.7...|       9.5|      null|      10.0|06:03:32|17:53:20|24.1|   34.4|   16.2|        13.0|\n",
      "|  Arapeí, SP, Brasil|-22.6728| -44.4469|      Rain, Overcast|2022-09-04|{tempmax -> [17.7...|     100.0|    [rain]|      10.0|06:05:10|17:48:48|15.5|   19.0|   10.0|        24.1|\n",
      "|  Arapeí, SP, Brasil|-22.6728| -44.4469|    Partially cloudy|2022-09-05|{tempmax -> [12.4...|       9.5|    [rain]|      10.0|06:04:12|17:49:06|12.7|   16.9|    9.7|         7.6|\n",
      "|  Arapeí, SP, Brasil|-22.6728| -44.4469|            Overcast|2022-09-06|{tempmax -> [17.4...|       0.0|      null|      10.0|06:03:14|17:49:23|13.9|   19.8|   11.1|         8.3|\n",
      "|  Arapeí, SP, Brasil|-22.6728| -44.4469|Rain, Partially c...|2022-09-07|{tempmax -> [18.1...|      57.1|    [rain]|      10.0|06:02:16|17:49:41|15.5|   24.4|    8.3|        11.2|\n",
      "|  Arapeí, SP, Brasil|-22.6728| -44.4469|               Clear|2022-09-08|{tempmax -> [16.9...|      42.9|      null|      10.0|06:01:18|17:49:58|19.6|   29.0|   12.0|         7.6|\n",
      "|  Arapeí, SP, Brasil|-22.6728| -44.4469|    Partially cloudy|2022-09-09|{tempmax -> [19.2...|       4.8|      null|      10.0|06:00:19|17:50:16|22.6|   31.8|   15.6|         4.7|\n",
      "|  Areias, SP, Brasil|-22.5808|  -44.696|      Rain, Overcast|2022-09-04|{tempmax -> [17.7...|     100.0|    [rain]|      10.0|06:06:06|17:49:51|14.1|   18.0|   10.9|        14.8|\n",
      "|  Areias, SP, Brasil|-22.5808|  -44.696|    Partially cloudy|2022-09-05|{tempmax -> [12.4...|       9.5|    [rain]|      10.0|06:05:09|17:50:09|14.0|   20.9|    9.8|        14.4|\n",
      "|  Areias, SP, Brasil|-22.5808|  -44.696|    Partially cloudy|2022-09-06|{tempmax -> [17.4...|       0.0|      null|      10.0|06:04:11|17:50:26|15.7|   22.7|   10.8|        16.2|\n",
      "|  Areias, SP, Brasil|-22.5808|  -44.696|Rain, Partially c...|2022-09-07|{tempmax -> [18.1...|      57.1|    [rain]|      10.0|06:03:14|17:50:43|17.4|   26.0|   10.1|        13.3|\n",
      "|  Areias, SP, Brasil|-22.5808|  -44.696|    Partially cloudy|2022-09-08|{tempmax -> [16.9...|      42.9|      null|      10.0|06:02:15|17:51:00|20.6|   30.5|   12.4|        13.7|\n",
      "|  Areias, SP, Brasil|-22.5808|  -44.696|               Clear|2022-09-09|{tempmax -> [19.2...|       4.8|      null|      10.0|06:01:17|17:51:17|23.3|   32.9|   16.0|        10.1|\n",
      "| Bananal, SP, Brasil|-22.6838| -44.3237|      Rain, Overcast|2022-09-04|{tempmax -> [17.7...|     100.0|    [rain]|      10.0|06:04:41|17:48:18|16.2|   19.0|   10.7|        24.1|\n",
      "| Bananal, SP, Brasil|-22.6838| -44.3237|    Partially cloudy|2022-09-05|{tempmax -> [12.4...|       9.5|    [rain]|      10.0|06:03:43|17:48:36|14.1|   18.5|   11.1|         6.5|\n",
      "+--------------------+--------+---------+--------------------+----------+--------------------+----------+----------+----------+--------+--------+----+-------+-------+------------+\n",
      "only showing top 20 rows\n",
      "\n"
     ]
    }
   ],
   "source": [
    "df_weather.show()"
   ]
  },
  {
   "cell_type": "code",
   "execution_count": 8,
   "id": "d96739bf",
   "metadata": {},
   "outputs": [],
   "source": [
    "# DROP DAS COLUNAS QUE NÃO SERÃO UTILIZADAS\n",
    "df_weather_2 = df_weather.drop(F.col('normal')).drop(F.col('severerisk'))"
   ]
  },
  {
   "cell_type": "code",
   "execution_count": 9,
   "id": "3f17a456",
   "metadata": {},
   "outputs": [],
   "source": [
    "df_weather_renamed = (df_weather_2.withColumnRenamed('conditions','CondicaoDoTempo')\\\n",
    "            .withColumnRenamed('datetime','Data')\\\n",
    "            .withColumnRenamed('precipprob','ChanceDeChuva')\\\n",
    "            .withColumnRenamed('preciptype','VaiChover')\\\n",
    "            .withColumnRenamed('sunrise','NascerDoSol')\\\n",
    "            .withColumnRenamed('sunset','PorDoSol')\\\n",
    "            .withColumnRenamed('temp','TemperaturaMedia')\\\n",
    "            .withColumnRenamed('tempmax','TemperaturaMaxima')\\\n",
    "            .withColumnRenamed('tempmin','TemperaturaMinima')\\\n",
    "            .withColumnRenamed('windspeedmax','VelocidadeMaximaDoVento'))"
   ]
  },
  {
   "cell_type": "code",
   "execution_count": 11,
   "id": "4a77bf90",
   "metadata": {},
   "outputs": [],
   "source": [
    "# CONVERTENDO A COLUNA VAICHOVER EM STRING\n",
    "df_weather_alter_type = df_weather_renamed.withColumn(\"VaiChover\", df_weather_renamed[\"VaiChover\"].cast(\"string\"))"
   ]
  },
  {
   "cell_type": "code",
   "execution_count": 12,
   "id": "f1ab52eb",
   "metadata": {
    "scrolled": true
   },
   "outputs": [],
   "source": [
    "# ATRIBUINDO OS VALORES SIM E NÃO A COLUNA VAICHOVER\n",
    "df_weather_rain = df_weather_alter_type.withColumn('VaiChover',F.when((F.col('VaiChover')=='[rain]'), F.lit('Sim'))\n",
    "                                              .when((F.col('VaiChover').isNull()),F.lit('Não')))                           \n",
    "                                    "
   ]
  },
  {
   "cell_type": "code",
   "execution_count": 26,
   "id": "a7f48e4c",
   "metadata": {
    "scrolled": true
   },
   "outputs": [],
   "source": [
    "# CRIAÇÃO DAS COLUNAS REGIÃO E PAIS\n",
    "df_weather_region = df_weather_rain.withColumn('Cidade2', split(df_weather_rain['Cidade'], ',').getItem(0)) \\\n",
    "       .withColumn('Regiao', split(df_weather_rain['Cidade'], ', ').getItem(1)) \\\n",
    "       .withColumn('Pais', split(df_weather_rain['Cidade'], ', ').getItem(2))\n",
    "\n"
   ]
  },
  {
   "cell_type": "code",
   "execution_count": 35,
   "id": "47f96b03",
   "metadata": {
    "scrolled": false
   },
   "outputs": [],
   "source": [
    "df_weather_region=df_weather_region.drop('Cidade')"
   ]
  },
  {
   "cell_type": "code",
   "execution_count": 36,
   "id": "d87b916e",
   "metadata": {},
   "outputs": [
    {
     "name": "stdout",
     "output_type": "stream",
     "text": [
      "-RECORD 0-----------------------------------------\n",
      " Latitude                | -22.8494               \n",
      " Longitude               | -45.2318               \n",
      " CondicaoDoTempo         | Rain, Overcast         \n",
      " Data                    | 2022-09-04             \n",
      " ChanceDeChuva           | 100.0                  \n",
      " VaiChover               | Sim                    \n",
      " NascerDoSol             | 06:08:24               \n",
      " PorDoSol                | 17:51:51               \n",
      " TemperaturaMedia        | 14.5                   \n",
      " TemperaturaMaxima       | 17.8                   \n",
      " TemperaturaMinima       | 12.9                   \n",
      " VelocidadeMaximaDoVento | 14.4                   \n",
      " Cidade2                 | Aparecida              \n",
      " Regiao                  | SP                     \n",
      " Pais                    | Brasil                 \n",
      "-RECORD 1-----------------------------------------\n",
      " Latitude                | -22.8494               \n",
      " Longitude               | -45.2318               \n",
      " CondicaoDoTempo         | Partially cloudy       \n",
      " Data                    | 2022-09-05             \n",
      " ChanceDeChuva           | 23.8                   \n",
      " VaiChover               | Sim                    \n",
      " NascerDoSol             | 06:07:26               \n",
      " PorDoSol                | 17:52:09               \n",
      " TemperaturaMedia        | 16.3                   \n",
      " TemperaturaMaxima       | 24.9                   \n",
      " TemperaturaMinima       | 11.2                   \n",
      " VelocidadeMaximaDoVento | 12.6                   \n",
      " Cidade2                 | Aparecida              \n",
      " Regiao                  | SP                     \n",
      " Pais                    | Brasil                 \n",
      "-RECORD 2-----------------------------------------\n",
      " Latitude                | -22.8494               \n",
      " Longitude               | -45.2318               \n",
      " CondicaoDoTempo         | Partially cloudy       \n",
      " Data                    | 2022-09-06             \n",
      " ChanceDeChuva           | 14.3                   \n",
      " VaiChover               | Sim                    \n",
      " NascerDoSol             | 06:06:28               \n",
      " PorDoSol                | 17:52:27               \n",
      " TemperaturaMedia        | 17.0                   \n",
      " TemperaturaMaxima       | 25.6                   \n",
      " TemperaturaMinima       | 12.7                   \n",
      " VelocidadeMaximaDoVento | 15.1                   \n",
      " Cidade2                 | Aparecida              \n",
      " Regiao                  | SP                     \n",
      " Pais                    | Brasil                 \n",
      "-RECORD 3-----------------------------------------\n",
      " Latitude                | -22.8494               \n",
      " Longitude               | -45.2318               \n",
      " CondicaoDoTempo         | Rain, Partially cloudy \n",
      " Data                    | 2022-09-07             \n",
      " ChanceDeChuva           | 81.0                   \n",
      " VaiChover               | Sim                    \n",
      " NascerDoSol             | 06:05:30               \n",
      " PorDoSol                | 17:52:44               \n",
      " TemperaturaMedia        | 18.5                   \n",
      " TemperaturaMaxima       | 29.7                   \n",
      " TemperaturaMinima       | 11.6                   \n",
      " VelocidadeMaximaDoVento | 15.1                   \n",
      " Cidade2                 | Aparecida              \n",
      " Regiao                  | SP                     \n",
      " Pais                    | Brasil                 \n",
      "-RECORD 4-----------------------------------------\n",
      " Latitude                | -22.8494               \n",
      " Longitude               | -45.2318               \n",
      " CondicaoDoTempo         | Clear                  \n",
      " Data                    | 2022-09-08             \n",
      " ChanceDeChuva           | 42.9                   \n",
      " VaiChover               | Não                    \n",
      " NascerDoSol             | 06:04:31               \n",
      " PorDoSol                | 17:53:02               \n",
      " TemperaturaMedia        | 21.6                   \n",
      " TemperaturaMaxima       | 31.6                   \n",
      " TemperaturaMinima       | 13.5                   \n",
      " VelocidadeMaximaDoVento | 12.6                   \n",
      " Cidade2                 | Aparecida              \n",
      " Regiao                  | SP                     \n",
      " Pais                    | Brasil                 \n",
      "-RECORD 5-----------------------------------------\n",
      " Latitude                | -22.8494               \n",
      " Longitude               | -45.2318               \n",
      " CondicaoDoTempo         | Clear                  \n",
      " Data                    | 2022-09-09             \n",
      " ChanceDeChuva           | 9.5                    \n",
      " VaiChover               | Não                    \n",
      " NascerDoSol             | 06:03:32               \n",
      " PorDoSol                | 17:53:20               \n",
      " TemperaturaMedia        | 24.1                   \n",
      " TemperaturaMaxima       | 34.4                   \n",
      " TemperaturaMinima       | 16.2                   \n",
      " VelocidadeMaximaDoVento | 13.0                   \n",
      " Cidade2                 | Aparecida              \n",
      " Regiao                  | SP                     \n",
      " Pais                    | Brasil                 \n",
      "-RECORD 6-----------------------------------------\n",
      " Latitude                | -22.6728               \n",
      " Longitude               | -44.4469               \n",
      " CondicaoDoTempo         | Rain, Overcast         \n",
      " Data                    | 2022-09-04             \n",
      " ChanceDeChuva           | 100.0                  \n",
      " VaiChover               | Sim                    \n",
      " NascerDoSol             | 06:05:10               \n",
      " PorDoSol                | 17:48:48               \n",
      " TemperaturaMedia        | 15.5                   \n",
      " TemperaturaMaxima       | 19.0                   \n",
      " TemperaturaMinima       | 10.0                   \n",
      " VelocidadeMaximaDoVento | 24.1                   \n",
      " Cidade2                 | Arapeí                 \n",
      " Regiao                  | SP                     \n",
      " Pais                    | Brasil                 \n",
      "-RECORD 7-----------------------------------------\n",
      " Latitude                | -22.6728               \n",
      " Longitude               | -44.4469               \n",
      " CondicaoDoTempo         | Partially cloudy       \n",
      " Data                    | 2022-09-05             \n",
      " ChanceDeChuva           | 9.5                    \n",
      " VaiChover               | Sim                    \n",
      " NascerDoSol             | 06:04:12               \n",
      " PorDoSol                | 17:49:06               \n",
      " TemperaturaMedia        | 12.7                   \n",
      " TemperaturaMaxima       | 16.9                   \n",
      " TemperaturaMinima       | 9.7                    \n",
      " VelocidadeMaximaDoVento | 7.6                    \n",
      " Cidade2                 | Arapeí                 \n",
      " Regiao                  | SP                     \n",
      " Pais                    | Brasil                 \n",
      "-RECORD 8-----------------------------------------\n",
      " Latitude                | -22.6728               \n",
      " Longitude               | -44.4469               \n",
      " CondicaoDoTempo         | Overcast               \n",
      " Data                    | 2022-09-06             \n",
      " ChanceDeChuva           | 0.0                    \n",
      " VaiChover               | Não                    \n",
      " NascerDoSol             | 06:03:14               \n",
      " PorDoSol                | 17:49:23               \n",
      " TemperaturaMedia        | 13.9                   \n",
      " TemperaturaMaxima       | 19.8                   \n",
      " TemperaturaMinima       | 11.1                   \n",
      " VelocidadeMaximaDoVento | 8.3                    \n",
      " Cidade2                 | Arapeí                 \n",
      " Regiao                  | SP                     \n",
      " Pais                    | Brasil                 \n",
      "-RECORD 9-----------------------------------------\n",
      " Latitude                | -22.6728               \n",
      " Longitude               | -44.4469               \n",
      " CondicaoDoTempo         | Rain, Partially cloudy \n",
      " Data                    | 2022-09-07             \n",
      " ChanceDeChuva           | 57.1                   \n",
      " VaiChover               | Sim                    \n",
      " NascerDoSol             | 06:02:16               \n",
      " PorDoSol                | 17:49:41               \n",
      " TemperaturaMedia        | 15.5                   \n",
      " TemperaturaMaxima       | 24.4                   \n",
      " TemperaturaMinima       | 8.3                    \n",
      " VelocidadeMaximaDoVento | 11.2                   \n",
      " Cidade2                 | Arapeí                 \n",
      " Regiao                  | SP                     \n",
      " Pais                    | Brasil                 \n",
      "-RECORD 10----------------------------------------\n",
      " Latitude                | -22.6728               \n",
      " Longitude               | -44.4469               \n",
      " CondicaoDoTempo         | Clear                  \n",
      " Data                    | 2022-09-08             \n",
      " ChanceDeChuva           | 42.9                   \n",
      " VaiChover               | Não                    \n",
      " NascerDoSol             | 06:01:18               \n",
      " PorDoSol                | 17:49:58               \n",
      " TemperaturaMedia        | 19.6                   \n",
      " TemperaturaMaxima       | 29.0                   \n",
      " TemperaturaMinima       | 12.0                   \n",
      " VelocidadeMaximaDoVento | 7.6                    \n",
      " Cidade2                 | Arapeí                 \n",
      " Regiao                  | SP                     \n",
      " Pais                    | Brasil                 \n",
      "-RECORD 11----------------------------------------\n",
      " Latitude                | -22.6728               \n",
      " Longitude               | -44.4469               \n",
      " CondicaoDoTempo         | Partially cloudy       \n",
      " Data                    | 2022-09-09             \n",
      " ChanceDeChuva           | 4.8                    \n",
      " VaiChover               | Não                    \n",
      " NascerDoSol             | 06:00:19               \n",
      " PorDoSol                | 17:50:16               \n",
      " TemperaturaMedia        | 22.6                   \n",
      " TemperaturaMaxima       | 31.8                   \n",
      " TemperaturaMinima       | 15.6                   \n",
      " VelocidadeMaximaDoVento | 4.7                    \n",
      " Cidade2                 | Arapeí                 \n",
      " Regiao                  | SP                     \n",
      " Pais                    | Brasil                 \n",
      "-RECORD 12----------------------------------------\n",
      " Latitude                | -22.5808               \n",
      " Longitude               | -44.696                \n",
      " CondicaoDoTempo         | Rain, Overcast         \n",
      " Data                    | 2022-09-04             \n",
      " ChanceDeChuva           | 100.0                  \n",
      " VaiChover               | Sim                    \n",
      " NascerDoSol             | 06:06:06               \n",
      " PorDoSol                | 17:49:51               \n",
      " TemperaturaMedia        | 14.1                   \n",
      " TemperaturaMaxima       | 18.0                   \n",
      " TemperaturaMinima       | 10.9                   \n",
      " VelocidadeMaximaDoVento | 14.8                   \n",
      " Cidade2                 | Areias                 \n",
      " Regiao                  | SP                     \n",
      " Pais                    | Brasil                 \n",
      "-RECORD 13----------------------------------------\n",
      " Latitude                | -22.5808               \n",
      " Longitude               | -44.696                \n",
      " CondicaoDoTempo         | Partially cloudy       \n",
      " Data                    | 2022-09-05             \n",
      " ChanceDeChuva           | 9.5                    \n",
      " VaiChover               | Sim                    \n",
      " NascerDoSol             | 06:05:09               \n",
      " PorDoSol                | 17:50:09               \n",
      " TemperaturaMedia        | 14.0                   \n",
      " TemperaturaMaxima       | 20.9                   \n",
      " TemperaturaMinima       | 9.8                    \n",
      " VelocidadeMaximaDoVento | 14.4                   \n",
      " Cidade2                 | Areias                 \n",
      " Regiao                  | SP                     \n",
      " Pais                    | Brasil                 \n",
      "-RECORD 14----------------------------------------\n",
      " Latitude                | -22.5808               \n",
      " Longitude               | -44.696                \n",
      " CondicaoDoTempo         | Partially cloudy       \n",
      " Data                    | 2022-09-06             \n",
      " ChanceDeChuva           | 0.0                    \n",
      " VaiChover               | Não                    \n",
      " NascerDoSol             | 06:04:11               \n",
      " PorDoSol                | 17:50:26               \n",
      " TemperaturaMedia        | 15.7                   \n",
      " TemperaturaMaxima       | 22.7                   \n",
      " TemperaturaMinima       | 10.8                   \n",
      " VelocidadeMaximaDoVento | 16.2                   \n",
      " Cidade2                 | Areias                 \n",
      " Regiao                  | SP                     \n",
      " Pais                    | Brasil                 \n",
      "-RECORD 15----------------------------------------\n",
      " Latitude                | -22.5808               \n",
      " Longitude               | -44.696                \n",
      " CondicaoDoTempo         | Rain, Partially cloudy \n",
      " Data                    | 2022-09-07             \n",
      " ChanceDeChuva           | 57.1                   \n",
      " VaiChover               | Sim                    \n",
      " NascerDoSol             | 06:03:14               \n",
      " PorDoSol                | 17:50:43               \n",
      " TemperaturaMedia        | 17.4                   \n",
      " TemperaturaMaxima       | 26.0                   \n",
      " TemperaturaMinima       | 10.1                   \n",
      " VelocidadeMaximaDoVento | 13.3                   \n",
      " Cidade2                 | Areias                 \n",
      " Regiao                  | SP                     \n",
      " Pais                    | Brasil                 \n",
      "-RECORD 16----------------------------------------\n",
      " Latitude                | -22.5808               \n",
      " Longitude               | -44.696                \n",
      " CondicaoDoTempo         | Partially cloudy       \n",
      " Data                    | 2022-09-08             \n",
      " ChanceDeChuva           | 42.9                   \n",
      " VaiChover               | Não                    \n",
      " NascerDoSol             | 06:02:15               \n",
      " PorDoSol                | 17:51:00               \n",
      " TemperaturaMedia        | 20.6                   \n",
      " TemperaturaMaxima       | 30.5                   \n",
      " TemperaturaMinima       | 12.4                   \n",
      " VelocidadeMaximaDoVento | 13.7                   \n",
      " Cidade2                 | Areias                 \n",
      " Regiao                  | SP                     \n",
      " Pais                    | Brasil                 \n",
      "-RECORD 17----------------------------------------\n",
      " Latitude                | -22.5808               \n",
      " Longitude               | -44.696                \n",
      " CondicaoDoTempo         | Clear                  \n",
      " Data                    | 2022-09-09             \n",
      " ChanceDeChuva           | 4.8                    \n",
      " VaiChover               | Não                    \n",
      " NascerDoSol             | 06:01:17               \n",
      " PorDoSol                | 17:51:17               \n",
      " TemperaturaMedia        | 23.3                   \n",
      " TemperaturaMaxima       | 32.9                   \n",
      " TemperaturaMinima       | 16.0                   \n",
      " VelocidadeMaximaDoVento | 10.1                   \n",
      " Cidade2                 | Areias                 \n",
      " Regiao                  | SP                     \n",
      " Pais                    | Brasil                 \n",
      "-RECORD 18----------------------------------------\n",
      " Latitude                | -22.6838               \n",
      " Longitude               | -44.3237               \n",
      " CondicaoDoTempo         | Rain, Overcast         \n",
      " Data                    | 2022-09-04             \n",
      " ChanceDeChuva           | 100.0                  \n",
      " VaiChover               | Sim                    \n",
      " NascerDoSol             | 06:04:41               \n",
      " PorDoSol                | 17:48:18               \n",
      " TemperaturaMedia        | 16.2                   \n",
      " TemperaturaMaxima       | 19.0                   \n",
      " TemperaturaMinima       | 10.7                   \n",
      " VelocidadeMaximaDoVento | 24.1                   \n",
      " Cidade2                 | Bananal                \n",
      " Regiao                  | SP                     \n",
      " Pais                    | Brasil                 \n",
      "-RECORD 19----------------------------------------\n",
      " Latitude                | -22.6838               \n",
      " Longitude               | -44.3237               \n",
      " CondicaoDoTempo         | Partially cloudy       \n",
      " Data                    | 2022-09-05             \n",
      " ChanceDeChuva           | 9.5                    \n",
      " VaiChover               | Sim                    \n",
      " NascerDoSol             | 06:03:43               \n",
      " PorDoSol                | 17:48:36               \n",
      " TemperaturaMedia        | 14.1                   \n",
      " TemperaturaMaxima       | 18.5                   \n",
      " TemperaturaMinima       | 11.1                   \n",
      " VelocidadeMaximaDoVento | 6.5                    \n",
      " Cidade2                 | Bananal                \n",
      " Regiao                  | SP                     \n",
      " Pais                    | Brasil                 \n",
      "only showing top 20 rows\n",
      "\n"
     ]
    }
   ],
   "source": [
    "df_weather_region.show(truncate=False,vertical=True)"
   ]
  },
  {
   "cell_type": "code",
   "execution_count": 37,
   "id": "028cbfd5",
   "metadata": {},
   "outputs": [],
   "source": [
    "# Criar view com as previsões\n",
    "df_weather_region.createOrReplaceTempView('forecasts')"
   ]
  },
  {
   "cell_type": "code",
   "execution_count": 81,
   "id": "bbc2a925-c707-46f0-a2e2-e0e0164a7312",
   "metadata": {
    "scrolled": true
   },
   "outputs": [],
   "source": [
    "# Criar DF da Tabela 1\n",
    "Tabela1 = spark.sql(\"SELECT f.Cidade2 as Cidade,c.id as CodigoDaCidade,f.Data,f.Regiao,f.Pais,f.Latitude,f.Longitude,\\\n",
    "             f.TemperaturaMaxima,f.TemperaturaMinima,f.TemperaturaMedia,f.VaiChover,f.ChanceDeChuva,\\\n",
    "             f.CondicaoDoTempo,f.NascerDoSol,f.PorDoSol,f.VelocidadeMaximaDoVento\\\n",
    "             FROM  forecasts f INNER JOIN cities c ON f.Cidade2 == c.nome ORDER BY f.Data ASC\")"
   ]
  },
  {
   "cell_type": "code",
   "execution_count": 97,
   "id": "04a8924a",
   "metadata": {},
   "outputs": [],
   "source": [
    "# Criar DF da Tabela 2\n",
    "Tabela2=spark.sql(\"SELECT f.Cidade2 as Cidade,SUM(if(f.Vaichover = 'Sim',1,0)) as QtdDiasVaiChover,\\\n",
    "                SUM(if(f.Vaichover = 'Não',1,0)) as QtdDiasNaoVaiChover,\\\n",
    "                COUNT(f.Data) as TotalDiasMapeados FROM forecasts f GROUP BY f.Cidade2\")"
   ]
  },
  {
   "cell_type": "code",
   "execution_count": 110,
   "id": "c1ff378b-4c24-47dc-aba1-742211cd385d",
   "metadata": {},
   "outputs": [],
   "source": [
    "# Exportar CSVs\n",
    "Tabela1.write.format(\"csv\")\\\n",
    ".mode(\"overwrite\")\\\n",
    ".option('header', 'true') \\\n",
    ".save(\"Datalake/Tabela1.csv\")\n",
    "\n",
    "Tabela2.write.format(\"csv\")\\\n",
    ".mode(\"overwrite\")\\\n",
    ".option('header', 'true') \\\n",
    ".save(\"Datalake/Tabela2.csv\")\n"
   ]
  },
  {
   "cell_type": "code",
   "execution_count": null,
   "id": "5d59b5d5",
   "metadata": {},
   "outputs": [],
   "source": []
  }
 ],
 "metadata": {
  "kernelspec": {
   "display_name": "Python 3 (ipykernel)",
   "language": "python",
   "name": "python3"
  },
  "language_info": {
   "codemirror_mode": {
    "name": "ipython",
    "version": 3
   },
   "file_extension": ".py",
   "mimetype": "text/x-python",
   "name": "python",
   "nbconvert_exporter": "python",
   "pygments_lexer": "ipython3",
   "version": "3.10.4"
  },
  "vscode": {
   "interpreter": {
    "hash": "916dbcbb3f70747c44a77c7bcd40155683ae19c65e1c03b4aa3499c5328201f1"
   }
  }
 },
 "nbformat": 4,
 "nbformat_minor": 5
}
